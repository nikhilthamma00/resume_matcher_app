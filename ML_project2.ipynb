{
 "cells": [
  {
   "cell_type": "markdown",
   "id": "8b75a8d7-719e-47ea-9229-549bd2bbb96d",
   "metadata": {},
   "source": [
    "## Section 1: Setup and Libraries"
   ]
  },
  {
   "cell_type": "code",
   "execution_count": 1,
   "id": "afd4c43f-35a2-4d42-96b0-3b605f25c61b",
   "metadata": {},
   "outputs": [],
   "source": [
    "# Install Sentence Transformers if not already installed\n",
    "#!pip install -q sentence-transformers\n",
    "#!pip install -q spacy\n",
    "#!python -m spacy download en_core_web_sm\n",
    "#pip install matplotlib matplotlib-venn\n",
    "\n",
    "from sentence_transformers import SentenceTransformer, util\n",
    "import numpy as np\n",
    "import pandas as pd\n"
   ]
  },
  {
   "cell_type": "markdown",
   "id": "3cf11c8c-3806-4c6a-b240-e8b12b240832",
   "metadata": {},
   "source": [
    "## Section 2: Sample Resume & Job Description"
   ]
  },
  {
   "cell_type": "code",
   "execution_count": 11,
   "id": "f38d2aa9-357b-42df-8b7e-3a12a5e2167e",
   "metadata": {},
   "outputs": [],
   "source": [
    "# Sample Resume (Paste your own when ready)\n",
    "resume_text = \"\"\"\n",
    "John Smith\n",
    "Email: johnsmith@email.com\n",
    "Phone: +1-234-567-8901\n",
    "\n",
    "Summary:\n",
    "Detail-oriented Data Analyst with 3+ years of experience in analyzing business data, building dashboards, and driving insights to support strategic decision-making.\n",
    "\n",
    "Skills:\n",
    "- Python (Pandas, NumPy, Scikit-learn)\n",
    "- SQL (PostgreSQL, MySQL)\n",
    "- Tableau & Power BI\n",
    "- A/B Testing, Regression, Time Series Forecasting\n",
    "- Excel (Advanced Functions, Pivot Tables)\n",
    "\n",
    "Experience:\n",
    "Data Analyst – XYZ Corp\n",
    "Jan 2021 – Present\n",
    "• Built and automated Tableau dashboards reducing reporting time by 40%\n",
    "• Conducted A/B testing for marketing campaigns leading to 15% lift in CTR\n",
    "• Cleaned and modeled data for predictive analytics using Scikit-learn\n",
    "\n",
    "Education:\n",
    "B.S. in Statistics – University of California, Berkeley\n",
    "\"\"\"\n",
    "\n",
    "# Sample Job Description (Business Analyst at Amazon, rephrased)\n",
    "job_description = \"\"\"\n",
    "We are seeking a Business/Data Analyst to join our e-commerce analytics team. \n",
    "This person will support business teams by developing metrics, dashboards, and predictive models to guide decision-making.\n",
    "\n",
    "Key Responsibilities:\n",
    "- Create dashboards using Power BI and Tableau\n",
    "- Analyze trends using SQL and Python\n",
    "- Develop predictive models for customer behavior\n",
    "- Collaborate cross-functionally with product and marketing teams\n",
    "\n",
    "Basic Qualifications:\n",
    "- Bachelor's in a quantitative field (Statistics, CS, Business Analytics)\n",
    "- Proficiency in SQL and Python\n",
    "- Strong communication and data storytelling skills\n",
    "\"\"\"\n"
   ]
  },
  {
   "cell_type": "markdown",
   "id": "1812bb9d-145e-46a0-aed6-108d4f317b64",
   "metadata": {},
   "source": [
    "## Section 3: Embedding with Sentence-BERT"
   ]
  },
  {
   "cell_type": "code",
   "execution_count": 14,
   "id": "c8997e46-20af-4eba-8413-5045770c66ce",
   "metadata": {},
   "outputs": [
    {
     "data": {
      "application/vnd.jupyter.widget-view+json": {
       "model_id": "23ef8a9fd745453fb83906780a1a1320",
       "version_major": 2,
       "version_minor": 0
      },
      "text/plain": [
       "modules.json:   0%|          | 0.00/349 [00:00<?, ?B/s]"
      ]
     },
     "metadata": {},
     "output_type": "display_data"
    },
    {
     "name": "stderr",
     "output_type": "stream",
     "text": [
      "C:\\Users\\nikhi\\anaconda3\\Lib\\site-packages\\huggingface_hub\\file_download.py:142: UserWarning: `huggingface_hub` cache-system uses symlinks by default to efficiently store duplicated files but your machine does not support them in C:\\Users\\nikhi\\.cache\\huggingface\\hub\\models--sentence-transformers--all-MiniLM-L6-v2. Caching files will still work but in a degraded version that might require more space on your disk. This warning can be disabled by setting the `HF_HUB_DISABLE_SYMLINKS_WARNING` environment variable. For more details, see https://huggingface.co/docs/huggingface_hub/how-to-cache#limitations.\n",
      "To support symlinks on Windows, you either need to activate Developer Mode or to run Python as an administrator. In order to activate developer mode, see this article: https://docs.microsoft.com/en-us/windows/apps/get-started/enable-your-device-for-development\n",
      "  warnings.warn(message)\n"
     ]
    },
    {
     "data": {
      "application/vnd.jupyter.widget-view+json": {
       "model_id": "d8341870fbb041fb86fe293fac73d06c",
       "version_major": 2,
       "version_minor": 0
      },
      "text/plain": [
       "config_sentence_transformers.json:   0%|          | 0.00/116 [00:00<?, ?B/s]"
      ]
     },
     "metadata": {},
     "output_type": "display_data"
    },
    {
     "data": {
      "application/vnd.jupyter.widget-view+json": {
       "model_id": "ea28f040b06d4ebf9f9c3f1cf81cf082",
       "version_major": 2,
       "version_minor": 0
      },
      "text/plain": [
       "README.md: 0.00B [00:00, ?B/s]"
      ]
     },
     "metadata": {},
     "output_type": "display_data"
    },
    {
     "data": {
      "application/vnd.jupyter.widget-view+json": {
       "model_id": "9b4fd111c8454e7b9018ee406a6da0d5",
       "version_major": 2,
       "version_minor": 0
      },
      "text/plain": [
       "sentence_bert_config.json:   0%|          | 0.00/53.0 [00:00<?, ?B/s]"
      ]
     },
     "metadata": {},
     "output_type": "display_data"
    },
    {
     "data": {
      "application/vnd.jupyter.widget-view+json": {
       "model_id": "9edd4b6acffe47128b1b1c0b1022d6f8",
       "version_major": 2,
       "version_minor": 0
      },
      "text/plain": [
       "config.json:   0%|          | 0.00/612 [00:00<?, ?B/s]"
      ]
     },
     "metadata": {},
     "output_type": "display_data"
    },
    {
     "data": {
      "application/vnd.jupyter.widget-view+json": {
       "model_id": "1c6946d233904e53924e93ca6ecb12a2",
       "version_major": 2,
       "version_minor": 0
      },
      "text/plain": [
       "model.safetensors:   0%|          | 0.00/90.9M [00:00<?, ?B/s]"
      ]
     },
     "metadata": {},
     "output_type": "display_data"
    },
    {
     "data": {
      "application/vnd.jupyter.widget-view+json": {
       "model_id": "90614999ce41441882975f293ca97259",
       "version_major": 2,
       "version_minor": 0
      },
      "text/plain": [
       "tokenizer_config.json:   0%|          | 0.00/350 [00:00<?, ?B/s]"
      ]
     },
     "metadata": {},
     "output_type": "display_data"
    },
    {
     "data": {
      "application/vnd.jupyter.widget-view+json": {
       "model_id": "a8bbc3002e234fa7ad92ba26965218b6",
       "version_major": 2,
       "version_minor": 0
      },
      "text/plain": [
       "vocab.txt: 0.00B [00:00, ?B/s]"
      ]
     },
     "metadata": {},
     "output_type": "display_data"
    },
    {
     "data": {
      "application/vnd.jupyter.widget-view+json": {
       "model_id": "ca1c9000219c4d3aa610db52ed728ee7",
       "version_major": 2,
       "version_minor": 0
      },
      "text/plain": [
       "tokenizer.json: 0.00B [00:00, ?B/s]"
      ]
     },
     "metadata": {},
     "output_type": "display_data"
    },
    {
     "data": {
      "application/vnd.jupyter.widget-view+json": {
       "model_id": "f1c03848769145e8adb860d362836ad6",
       "version_major": 2,
       "version_minor": 0
      },
      "text/plain": [
       "special_tokens_map.json:   0%|          | 0.00/112 [00:00<?, ?B/s]"
      ]
     },
     "metadata": {},
     "output_type": "display_data"
    },
    {
     "data": {
      "application/vnd.jupyter.widget-view+json": {
       "model_id": "e3287e8db1e34dad862912f73c02bf83",
       "version_major": 2,
       "version_minor": 0
      },
      "text/plain": [
       "config.json:   0%|          | 0.00/190 [00:00<?, ?B/s]"
      ]
     },
     "metadata": {},
     "output_type": "display_data"
    },
    {
     "name": "stdout",
     "output_type": "stream",
     "text": [
      "🔍 Cosine Similarity Score: 0.740 (1.0 = perfect match)\n"
     ]
    }
   ],
   "source": [
    "# Load model\n",
    "model = SentenceTransformer('all-MiniLM-L6-v2')\n",
    "\n",
    "# Generate embeddings\n",
    "resume_embedding = model.encode(resume_text, convert_to_tensor=True)\n",
    "job_embedding = model.encode(job_description, convert_to_tensor=True)\n",
    "\n",
    "# Compute cosine similarity\n",
    "similarity_score = util.cos_sim(resume_embedding, job_embedding)\n",
    "\n",
    "print(f\"🔍 Cosine Similarity Score: {similarity_score.item():.3f} (1.0 = perfect match)\")\n"
   ]
  },
  {
   "cell_type": "markdown",
   "id": "3ca46607-b2b6-42f5-9237-aecdf9d869a3",
   "metadata": {},
   "source": [
    "# Skill & Keyword Overlap Explainer (Phase 2)\n",
    "----\n",
    "## Section 1: Extract Keywords from Resume & JD"
   ]
  },
  {
   "cell_type": "code",
   "execution_count": 21,
   "id": "5eda5e4b-5ded-48f4-ac3f-746c1bf225fb",
   "metadata": {},
   "outputs": [],
   "source": [
    "import spacy\n",
    "from collections import Counter\n",
    "\n",
    "# Load English model\n",
    "nlp = spacy.load(\"en_core_web_sm\")\n",
    "\n",
    "# Function to extract keywords (nouns and proper nouns only)\n",
    "def extract_keywords(text):\n",
    "    doc = nlp(text.lower())\n",
    "    return [token.text for token in doc if token.pos_ in ['NOUN', 'PROPN'] and not token.is_stop and token.is_alpha]\n",
    "\n",
    "# Apply to both texts\n",
    "resume_keywords = extract_keywords(resume_text)\n",
    "jd_keywords = extract_keywords(job_description)\n",
    "\n",
    "# Count occurrences\n",
    "resume_freq = Counter(resume_keywords)\n",
    "jd_freq = Counter(jd_keywords)\n"
   ]
  },
  {
   "cell_type": "markdown",
   "id": "cab1b8ab-fd53-4d5c-a3cb-72ad29175a44",
   "metadata": {},
   "source": [
    "## Section 2: Compare Keywords for Overlap\n",
    "\n",
    "**Now let’s see:**\n",
    "\n",
    "1. What skills match\n",
    "\n",
    "2. What skills are missing from resume\n",
    "\n",
    "3. What unique skills are only in the resume"
   ]
  },
  {
   "cell_type": "code",
   "execution_count": 30,
   "id": "39bb442d-65cb-43ad-9aaa-720120cd5870",
   "metadata": {},
   "outputs": [
    {
     "name": "stdout",
     "output_type": "stream",
     "text": [
      "✅ Matched Skills: ['analyst', 'analytics', 'bi', 'business', 'dashboards', 'data', 'decision', 'making', 'marketing', 'power', 'skills', 'statistics', 'tableau']\n",
      "\n",
      "⚠️ Missing from Resume: ['analyze', 'bachelor', 'behavior', 'communication', 'cross', 'customer', 'e', 'field', 'metrics', 'models', 'person', 'product', 'proficiency', 'qualifications', 'responsibilities', 'storytelling', 'team', 'teams', 'trends']\n",
      "\n",
      "💡 Present in Resume but Not in JD: ['b', 'berkeley', 'california', 'campaigns', 'corp', 'ctr', 'detail', 'education', 'email', 'excel', 'experience', 'forecasting', 'functions', 'insights', 'jan', 'john', 'lift', 'mysql', 'numpy', 'pandas', 'phone', 'postgresql', 'python', 'regression', 'reporting', 'scikit', 'series', 'smith', 'summary', 'tables', 'testing', 'time', 'university', 'xyz', 'years']\n"
     ]
    }
   ],
   "source": [
    "# Overlap sets\n",
    "resume_set = set(resume_keywords)\n",
    "jd_set = set(jd_keywords)\n",
    "\n",
    "# Match analysis\n",
    "matched = resume_set & jd_set\n",
    "missing = jd_set - resume_set\n",
    "extra = resume_set - jd_set\n",
    "\n",
    "print(\"✅ Matched Skills:\", sorted(matched))\n",
    "print(\"\\n⚠️ Missing from Resume:\", sorted(missing))\n",
    "print(\"\\n💡 Present in Resume but Not in JD:\", sorted(extra))\n"
   ]
  },
  {
   "cell_type": "markdown",
   "id": "b2db9a31-102c-4af9-80a1-ee2b229a1300",
   "metadata": {},
   "source": [
    "**This is incredibly useful because:**\n",
    "\n",
    "- You know what keywords are boosting your similarity.\n",
    "- You can identify gaps to address before applying.\n",
    "- You can tailor your resume directly to the job."
   ]
  },
  {
   "cell_type": "markdown",
   "id": "67042f66-f468-4024-8827-1babdcae1a6d",
   "metadata": {},
   "source": [
    "## Section 3: Wrap in Function"
   ]
  },
  {
   "cell_type": "code",
   "execution_count": 35,
   "id": "0ac472ae-455c-4506-80b2-9f56fb113ac5",
   "metadata": {},
   "outputs": [],
   "source": [
    "def keyword_overlap_analysis(resume_text, job_description):\n",
    "    resume_kw = set(extract_keywords(resume_text))\n",
    "    jd_kw = set(extract_keywords(job_description))\n",
    "\n",
    "    matched = resume_kw & jd_kw\n",
    "    missing = jd_kw - resume_kw\n",
    "    extra = resume_kw - jd_kw\n",
    "\n",
    "    print(\"✅ Matched Skills:\", sorted(matched))\n",
    "    print(\"\\n⚠️ Missing from Resume:\", sorted(missing))\n",
    "    print(\"\\n💡 Present in Resume but Not in JD:\", sorted(extra))\n"
   ]
  },
  {
   "cell_type": "markdown",
   "id": "72f245bb-0314-4c1b-8418-3bdb74af3d7a",
   "metadata": {},
   "source": [
    "# Skill Visualization (Venn Diagram & Bar Charts) (Phase 3)"
   ]
  },
  {
   "cell_type": "markdown",
   "id": "ec12bb70-aa30-43ff-b110-49008a92107e",
   "metadata": {},
   "source": [
    "## Step 1: Add Venn Diagram & Bar Charts\n",
    "\n",
    "We'll use matplotlib and matplotlib_venn to show:\n",
    "\n",
    "- Overlap between resume and job description\n",
    "- Count of keywords: matched, missing, extra"
   ]
  },
  {
   "cell_type": "code",
   "execution_count": 42,
   "id": "f208d2eb-df2e-4906-9767-ee59dd394978",
   "metadata": {},
   "outputs": [
    {
     "data": {
      "image/png": "[encoded data removed]",
      "text/plain": [
       "<Figure size 600x400 with 1 Axes>"
      ]
     },
     "metadata": {},
     "output_type": "display_data"
    }
   ],
   "source": [
    "import matplotlib.pyplot as plt\n",
    "from matplotlib_venn import venn2\n",
    "\n",
    "def visualize_keyword_overlap(resume_keywords, jd_keywords):\n",
    "    resume_set = set(resume_keywords)\n",
    "    jd_set = set(jd_keywords)\n",
    "\n",
    "    plt.figure(figsize=(6, 4))\n",
    "    venn2([resume_set, jd_set], set_labels=(\"Resume\", \"Job Description\"))\n",
    "    plt.title(\"Keyword Overlap\")\n",
    "    plt.show()\n",
    "\n",
    "visualize_keyword_overlap(resume_keywords, jd_keywords)"
   ]
  },
  {
   "cell_type": "code",
   "execution_count": 48,
   "id": "db750f3f-a2fd-4c04-9c60-5e7c786639a1",
   "metadata": {},
   "outputs": [
    {
     "data": {
      "image/png": "[encoded data removed]",
      "text/plain": [
       "<Figure size 600x400 with 1 Axes>"
      ]
     },
     "metadata": {},
     "output_type": "display_data"
    }
   ],
   "source": [
    "def plot_keyword_counts(resume_keywords, jd_keywords):\n",
    "    resume_set = set(resume_keywords)\n",
    "    jd_set = set(jd_keywords)\n",
    "\n",
    "    matched = resume_set & jd_set\n",
    "    missing = jd_set - resume_set\n",
    "    extra = resume_set - jd_set\n",
    "\n",
    "    labels = ['Matched', 'Missing', 'Extra']\n",
    "    counts = [len(matched), len(missing), len(extra)]\n",
    "\n",
    "    plt.figure(figsize=(6, 4))\n",
    "    plt.bar(labels, counts, color=['green', 'red', 'blue'])\n",
    "    plt.title(\"Keyword Analysis\")\n",
    "    plt.ylabel(\"Number of Keywords\")\n",
    "    plt.show()\n",
    "\n",
    "plot_keyword_counts(resume_keywords, jd_keywords)"
   ]
  },
  {
   "cell_type": "markdown",
   "id": "76d09734-b940-4f7e-aa07-cee16f3fa388",
   "metadata": {},
   "source": [
    "## Step 2: Score Breakdown\n",
    "\n",
    "Let’s calculate:\n",
    "\n",
    "- **Match %**: What % of JD keywords are in resume?\n",
    "- **Gap %**: What % are missing?\n",
    "- **Extra %**: Unique terms in resume"
   ]
  },
  {
   "cell_type": "code",
   "execution_count": 62,
   "id": "b1612ce3-b34c-4bb8-b9b0-7cb150b5d6be",
   "metadata": {},
   "outputs": [
    {
     "name": "stdout",
     "output_type": "stream",
     "text": [
      "✅ Match Coverage: 40.62% of JD terms found in resume\n",
      "⚠️ Gaps: 59.38% of JD terms are missing\n",
      "💡 Resume Unique Value: 72.92% of resume terms are extra\n"
     ]
    },
    {
     "data": {
      "text/plain": [
       "{'match': 40.62, 'gap': 59.38, 'extra': 72.92}"
      ]
     },
     "execution_count": 62,
     "metadata": {},
     "output_type": "execute_result"
    }
   ],
   "source": [
    "def keyword_score_breakdown(resume_keywords, jd_keywords):\n",
    "    resume_set = set(resume_keywords)\n",
    "    jd_set = set(jd_keywords)\n",
    "\n",
    "    matched = resume_set & jd_set\n",
    "    missing = jd_set - resume_set\n",
    "    extra = resume_set - jd_set\n",
    "\n",
    "    match_percent = round(len(matched) / len(jd_set) * 100, 2)\n",
    "    gap_percent = round(len(missing) / len(jd_set) * 100, 2)\n",
    "    extra_percent = round(len(extra) / len(resume_set) * 100, 2)\n",
    "\n",
    "    print(f\"✅ Match Coverage: {match_percent}% of JD terms found in resume\")\n",
    "    print(f\"⚠️ Gaps: {gap_percent}% of JD terms are missing\")\n",
    "    print(f\"💡 Resume Unique Value: {extra_percent}% of resume terms are extra\")\n",
    "\n",
    "    return {\n",
    "        \"match\": match_percent,\n",
    "        \"gap\": gap_percent,\n",
    "        \"extra\": extra_percent\n",
    "    }\n",
    "keyword_score_breakdown(resume_keywords, jd_keywords)\n"
   ]
  },
  {
   "cell_type": "markdown",
   "id": "28d5e8e5-204b-412a-8d62-0b71bf435c33",
   "metadata": {},
   "source": [
    "## Step 3: Integrate All in One Analysis Function"
   ]
  },
  {
   "cell_type": "code",
   "execution_count": 64,
   "id": "4fd25db7-128e-4747-bd60-db711bc6416b",
   "metadata": {},
   "outputs": [
    {
     "data": {
      "image/png": "[encoded data removed]",
      "text/plain": [
       "<Figure size 600x400 with 1 Axes>"
      ]
     },
     "metadata": {},
     "output_type": "display_data"
    },
    {
     "data": {
      "image/png": "[encoded data removed]",
      "text/plain": [
       "<Figure size 600x400 with 1 Axes>"
      ]
     },
     "metadata": {},
     "output_type": "display_data"
    },
    {
     "name": "stdout",
     "output_type": "stream",
     "text": [
      "✅ Match Coverage: 40.62% of JD terms found in resume\n",
      "⚠️ Gaps: 59.38% of JD terms are missing\n",
      "💡 Resume Unique Value: 72.92% of resume terms are extra\n"
     ]
    },
    {
     "data": {
      "text/plain": [
       "{'match': 40.62, 'gap': 59.38, 'extra': 72.92}"
      ]
     },
     "execution_count": 64,
     "metadata": {},
     "output_type": "execute_result"
    }
   ],
   "source": [
    "def full_keyword_overlap_analysis(resume_text, job_description):\n",
    "    resume_keywords = extract_keywords(resume_text)\n",
    "    jd_keywords = extract_keywords(job_description)\n",
    "\n",
    "    # Text-based report\n",
    "    keyword_overlap_analysis(resume_text, job_description)\n",
    "\n",
    "    # Score\n",
    "    print(\"\\n🔢 Score Breakdown:\")\n",
    "    keyword_score_breakdown(resume_keywords, jd_keywords)\n",
    "\n",
    "# Visuals\n",
    "visualize_keyword_overlap(resume_keywords, jd_keywords)\n",
    "plot_keyword_counts(resume_keywords, jd_keywords)\n",
    "keyword_score_breakdown(resume_keywords, jd_keywords)\n"
   ]
  },
  {
   "cell_type": "code",
   "execution_count": null,
   "id": "8784df4a-54a5-4d6e-a164-03bd00a907cc",
   "metadata": {},
   "outputs": [],
   "source": []
  }
 ],
 "metadata": {
  "kernelspec": {
   "display_name": "Python 3 (ipykernel)",
   "language": "python",
   "name": "python3"
  },
  "language_info": {
   "codemirror_mode": {
    "name": "ipython",
    "version": 3
   },
   "file_extension": ".py",
   "mimetype": "text/x-python",
   "name": "python",
   "nbconvert_exporter": "python",
   "pygments_lexer": "ipython3",
   "version": "3.12.4"
  }
 },
 "nbformat": 4,
 "nbformat_minor": 5
}
